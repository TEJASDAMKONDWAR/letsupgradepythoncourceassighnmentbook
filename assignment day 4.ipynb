{
 "cells": [
  {
   "cell_type": "markdown",
   "metadata": {},
   "source": [
    "# ASSIGNMENT 1"
   ]
  },
  {
   "cell_type": "code",
   "execution_count": 12,
   "metadata": {},
   "outputs": [
    {
     "name": "stdout",
     "output_type": "stream",
     "text": [
      "i love letsupgrade\n"
     ]
    }
   ],
   "source": [
    "abc = open(\"tejasFirsttxtfileonpython\",\"w\")\n",
    "abc.write(\"i love letsupgrade\")\n",
    "abc.close()\n",
    "\n",
    "abc = open(\"tejasFirsttxtfileonpython\",\"r\")\n",
    "print(abc.read())"
   ]
  },
  {
   "cell_type": "code",
   "execution_count": 13,
   "metadata": {},
   "outputs": [
    {
     "name": "stdout",
     "output_type": "stream",
     "text": [
      "i love letsupgrade \n",
      " i appended this file \n"
     ]
    }
   ],
   "source": [
    "abc = open(\"tejasFirsttxtfileonpython\",\"a\")\n",
    "abc.write(\" \\n i appended this file \")\n",
    "abc.close()\n",
    "\n",
    "abc = open (\"tejasFirsttxtfileonpython\",\"r\")\n",
    "print(abc.read())"
   ]
  },
  {
   "cell_type": "markdown",
   "metadata": {},
   "source": [
    "# ASSIGNMENT 2"
   ]
  },
  {
   "cell_type": "code",
   "execution_count": 20,
   "metadata": {},
   "outputs": [
    {
     "name": "stdout",
     "output_type": "stream",
     "text": [
      "write the number to be factorized : 8\n",
      "Factorial of 8 is 40320\n"
     ]
    }
   ],
   "source": [
    "def factorial(n): \n",
    "       \n",
    "    res = 1\n",
    "      \n",
    "    for i in range(2, n+1): \n",
    "        res *= i \n",
    "    return res \n",
    "  \n",
    "num = int(input(\"write the number to be factorized : \")); \n",
    "print(\"Factorial of\", num, \"is\", \n",
    "factorial(num)) "
   ]
  },
  {
   "cell_type": "code",
   "execution_count": null,
   "metadata": {},
   "outputs": [],
   "source": []
  }
 ],
 "metadata": {
  "kernelspec": {
   "display_name": "Python 3",
   "language": "python",
   "name": "python3"
  },
  "language_info": {
   "codemirror_mode": {
    "name": "ipython",
    "version": 3
   },
   "file_extension": ".py",
   "mimetype": "text/x-python",
   "name": "python",
   "nbconvert_exporter": "python",
   "pygments_lexer": "ipython3",
   "version": "3.8.3"
  }
 },
 "nbformat": 4,
 "nbformat_minor": 4
}
